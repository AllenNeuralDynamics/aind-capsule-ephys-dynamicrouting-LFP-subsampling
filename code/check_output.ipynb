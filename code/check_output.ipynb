{
 "cells": [
  {
   "cell_type": "code",
   "execution_count": 1,
   "metadata": {},
   "outputs": [
    {
     "name": "stderr",
     "output_type": "stream",
     "text": [
      "/opt/conda/lib/python3.9/site-packages/tqdm/auto.py:21: TqdmWarning: IProgress not found. Please update jupyter and ipywidgets. See https://ipywidgets.readthedocs.io/en/stable/user_install.html\n",
      "  from .autonotebook import tqdm as notebook_tqdm\n"
     ]
    }
   ],
   "source": [
    "import zarr\n",
    "import utils\n",
    "import pathlib\n",
    "import spikeinterface as si\n",
    "import matplotlib.pyplot as plt\n",
    "%matplotlib inline\n",
    "%load_ext autoreload\n",
    "%autoreload 2"
   ]
  },
  {
   "cell_type": "code",
   "execution_count": 2,
   "metadata": {},
   "outputs": [],
   "source": [
    "TEMPORAL_FACTOR = 2\n",
    "SPATIAL_FACTOR = 4"
   ]
  },
  {
   "cell_type": "code",
   "execution_count": 3,
   "metadata": {},
   "outputs": [],
   "source": [
    "raw_probe_recording = zarr.open('/root/capsule/data/ecephys_674562_2023-10-05_12-13-56/ecephys_compressed/experiment1_Record Node 102#Neuropix-PXI-100.ProbeA-LFP.zarr')\n",
    "subsampled_probe_lfp = zarr.open('/root/capsule/data/ecephys_674562_2023-10-05_LFP_Test/ecephys_674562_2023-10-05_12-13-56_ProbeA-LFP/ProbeA-LFP_lfp_subsampled.zarr', mode='r')\n"
   ]
  },
  {
   "cell_type": "code",
   "execution_count": 18,
   "metadata": {},
   "outputs": [
    {
     "data": {
      "text/plain": [
       "['channel_ids', 'properties', 'traces_seg0']"
      ]
     },
     "execution_count": 18,
     "metadata": {},
     "output_type": "execute_result"
    }
   ],
   "source": [
    "list(subsampled_probe_lfp.keys())"
   ]
  },
  {
   "cell_type": "code",
   "execution_count": 4,
   "metadata": {},
   "outputs": [
    {
     "data": {
      "text/plain": [
       "zarr.core.Array"
      ]
     },
     "execution_count": 4,
     "metadata": {},
     "output_type": "execute_result"
    }
   ],
   "source": [
    "type(raw_probe_recording['traces_seg0'])"
   ]
  },
  {
   "cell_type": "code",
   "execution_count": 5,
   "metadata": {},
   "outputs": [],
   "source": [
    "assert int(raw_probe_recording['traces_seg0'].shape[0] / TEMPORAL_FACTOR) == subsampled_probe_lfp['traces_seg0'].shape[0]"
   ]
  },
  {
   "cell_type": "code",
   "execution_count": 6,
   "metadata": {},
   "outputs": [],
   "source": [
    "assert int(raw_probe_recording['traces_seg0'].shape[1] / SPATIAL_FACTOR) == subsampled_probe_lfp['traces_seg0'].shape[1]"
   ]
  },
  {
   "cell_type": "code",
   "execution_count": 7,
   "metadata": {},
   "outputs": [
    {
     "data": {
      "text/plain": [
       "((17626104, 384), (8813052, 96))"
      ]
     },
     "execution_count": 7,
     "metadata": {},
     "output_type": "execute_result"
    }
   ],
   "source": [
    "raw_probe_recording['traces_seg0'].shape, subsampled_probe_lfp['traces_seg0'].shape"
   ]
  },
  {
   "cell_type": "code",
   "execution_count": 5,
   "metadata": {},
   "outputs": [],
   "source": [
    "subsampled_probe_channels = zarr.open('/root/capsule/data/ecephys_674562_2023-10-05_LFP_Test/ecephys_674562_2023-10-05_12-13-56_ProbeA-LFP/ProbeA-LFP_lfp_selected_channels.zarr', mode='r')"
   ]
  },
  {
   "cell_type": "code",
   "execution_count": 10,
   "metadata": {},
   "outputs": [],
   "source": [
    "subsampled_probe_times = zarr.open('/root/capsule/data/ecephys_674562_2023-10-05_LFP_Test/ecephys_674562_2023-10-05_12-13-56_ProbeA-LFP/ProbeA-LFP_lfp_time_samples.zarr', mode='r')\n"
   ]
  },
  {
   "cell_type": "code",
   "execution_count": 12,
   "metadata": {},
   "outputs": [],
   "source": [
    "temp = subsampled_probe_times[:] / 2"
   ]
  },
  {
   "cell_type": "code",
   "execution_count": 14,
   "metadata": {},
   "outputs": [
    {
     "data": {
      "text/plain": [
       "numpy.ndarray"
      ]
     },
     "execution_count": 14,
     "metadata": {},
     "output_type": "execute_result"
    }
   ],
   "source": [
    "type(temp)"
   ]
  },
  {
   "cell_type": "code",
   "execution_count": 21,
   "metadata": {},
   "outputs": [
    {
     "data": {
      "text/plain": [
       "7050.44"
      ]
     },
     "execution_count": 21,
     "metadata": {},
     "output_type": "execute_result"
    }
   ],
   "source": [
    "subsampled_probe_times[-2]"
   ]
  },
  {
   "cell_type": "code",
   "execution_count": 2,
   "metadata": {},
   "outputs": [],
   "source": [
    "postprocessed = zarr.open('/root/capsule/data/ecephys_668755_2023-08-28_13-06-40_sorted_2024-09-26_18-37-13/postprocessed/experiment1_Record Node 102#Neuropix-PXI-100.ProbeA-AP_recording1.zarr', mode='r')"
   ]
  },
  {
   "cell_type": "code",
   "execution_count": 3,
   "metadata": {},
   "outputs": [
    {
     "data": {
      "text/plain": [
       "['extensions',\n",
       " 'recording',\n",
       " 'recording_info',\n",
       " 'sorting',\n",
       " 'sorting_provenance',\n",
       " 'sparsity_mask']"
      ]
     },
     "execution_count": 3,
     "metadata": {},
     "output_type": "execute_result"
    }
   ],
   "source": [
    "list(postprocessed.keys())"
   ]
  },
  {
   "cell_type": "code",
   "execution_count": 20,
   "metadata": {},
   "outputs": [
    {
     "data": {
      "text/plain": [
       "['amplitude_cutoff',\n",
       " 'amplitude_cv_median',\n",
       " 'amplitude_cv_range',\n",
       " 'amplitude_median',\n",
       " 'd_prime',\n",
       " 'drift_mad',\n",
       " 'drift_ptp',\n",
       " 'drift_std',\n",
       " 'firing_range',\n",
       " 'firing_rate',\n",
       " 'index',\n",
       " 'isi_violations_count',\n",
       " 'isi_violations_ratio',\n",
       " 'isolation_distance',\n",
       " 'l_ratio',\n",
       " 'nn_hit_rate',\n",
       " 'nn_miss_rate',\n",
       " 'num_spikes',\n",
       " 'presence_ratio',\n",
       " 'rp_contamination',\n",
       " 'rp_violations',\n",
       " 'silhouette',\n",
       " 'sliding_rp_violation',\n",
       " 'snr',\n",
       " 'sync_spike_2',\n",
       " 'sync_spike_4',\n",
       " 'sync_spike_8']"
      ]
     },
     "execution_count": 20,
     "metadata": {},
     "output_type": "execute_result"
    }
   ],
   "source": [
    "list(postprocessed['extensions']['quality_metrics']['metrics'].keys())"
   ]
  },
  {
   "cell_type": "code",
   "execution_count": null,
   "metadata": {},
   "outputs": [],
   "source": []
  }
 ],
 "metadata": {
  "kernelspec": {
   "display_name": "base",
   "language": "python",
   "name": "python3"
  },
  "language_info": {
   "codemirror_mode": {
    "name": "ipython",
    "version": 3
   },
   "file_extension": ".py",
   "mimetype": "text/x-python",
   "name": "python",
   "nbconvert_exporter": "python",
   "pygments_lexer": "ipython3",
   "version": "3.9.12"
  },
  "orig_nbformat": 4,
  "vscode": {
   "interpreter": {
    "hash": "d4d1e4263499bec80672ea0156c357c1ee493ec2b1c70f0acce89fc37c4a6abe"
   }
  }
 },
 "nbformat": 4,
 "nbformat_minor": 2
}
